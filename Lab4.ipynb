{
  "nbformat": 4,
  "nbformat_minor": 0,
  "metadata": {
    "colab": {
      "name": "Lab4",
      "provenance": [],
      "collapsed_sections": [],
      "machine_shape": "hm"
    },
    "kernelspec": {
      "name": "python3",
      "display_name": "Python 3"
    }
  },
  "cells": [
    {
      "cell_type": "markdown",
      "metadata": {
        "id": "QyER-wX4tvvt",
        "colab_type": "text"
      },
      "source": [
        "# Imports"
      ]
    },
    {
      "cell_type": "code",
      "metadata": {
        "id": "_1__d-jeb4h1",
        "colab_type": "code",
        "outputId": "9e6bdd82-d656-41c1-b086-17fc4b87b894",
        "colab": {
          "base_uri": "https://localhost:8080/",
          "height": 36
        }
      },
      "source": [
        "%tensorflow_version 2.x\n",
        "\n",
        "import tensorflow as tf\n",
        "import tensorflow_hub as hub\n",
        "#from tensorflow.keras.datasets import fashion_mnist\n",
        "\n",
        "from tensorflow.keras.models import Sequential\n",
        "from tensorflow.keras.layers import Dense, Flatten, Dropout, Conv2D, MaxPooling2D, Activation\n",
        "from tensorflow.keras.preprocessing.image import ImageDataGenerator\n",
        "\n",
        "import os\n",
        "import numpy as np\n",
        "import PIL.Image as Image\n",
        "import matplotlib.pylab as plt\n",
        "\n",
        "#dark mode\n",
        "#plt.rc_context({'xtick.color':'w', 'ytick.color':'w', 'text.color':'w', 'axes.labelcolor':'w'})\n",
        "\n",
        "seed=1234\n",
        "np.random.seed(seed)\n",
        "tf.random.set_seed(seed)"
      ],
      "execution_count": 1,
      "outputs": [
        {
          "output_type": "stream",
          "text": [
            "TensorFlow 2.x selected.\n"
          ],
          "name": "stdout"
        }
      ]
    },
    {
      "cell_type": "markdown",
      "metadata": {
        "id": "H03V-fNdkPb9",
        "colab_type": "text"
      },
      "source": [
        "#Dataset"
      ]
    },
    {
      "cell_type": "code",
      "metadata": {
        "id": "ToO9EEH9ck_q",
        "colab_type": "code",
        "colab": {}
      },
      "source": [
        "from tensorflow.keras.datasets import cifar10"
      ],
      "execution_count": 0,
      "outputs": []
    },
    {
      "cell_type": "code",
      "metadata": {
        "id": "zGtkO6Hfbayi",
        "colab_type": "code",
        "colab": {
          "base_uri": "https://localhost:8080/",
          "height": 73
        },
        "outputId": "5e151cf3-6a9d-45b0-fa9e-ebc963ef63ae"
      },
      "source": [
        "(x_train, y_train), (x_test, y_test) = cifar10.load_data()\n",
        "print('x_train shape:', x_train.shape)\n",
        "print(x_train.shape[0], 'train samples')\n",
        "print(x_test.shape[0], 'test samples')"
      ],
      "execution_count": 3,
      "outputs": [
        {
          "output_type": "stream",
          "text": [
            "x_train shape: (50000, 32, 32, 3)\n",
            "50000 train samples\n",
            "10000 test samples\n"
          ],
          "name": "stdout"
        }
      ]
    },
    {
      "cell_type": "code",
      "metadata": {
        "id": "V6D_XT_Jb4nG",
        "colab_type": "code",
        "colab": {}
      },
      "source": [
        "num_classes = 10\n",
        "original_x_test = x_test\n",
        "original_y_test = y_test\n",
        "y_train = tf.keras.utils.to_categorical(y_train, num_classes)\n",
        "y_test = tf.keras.utils.to_categorical(y_test, num_classes)"
      ],
      "execution_count": 0,
      "outputs": []
    },
    {
      "cell_type": "code",
      "metadata": {
        "id": "seLFi3NopFEk",
        "colab_type": "code",
        "colab": {}
      },
      "source": [
        "batch_size = 32\n",
        "\n",
        "epochs = 10"
      ],
      "execution_count": 0,
      "outputs": []
    },
    {
      "cell_type": "code",
      "metadata": {
        "id": "kVjllptqi-zU",
        "colab_type": "code",
        "colab": {}
      },
      "source": [
        "class_names = ['plane','car','bird','cat','deer','dog','frog','horse','ship','truck']"
      ],
      "execution_count": 0,
      "outputs": []
    },
    {
      "cell_type": "code",
      "metadata": {
        "id": "oR8QThnzb5IP",
        "colab_type": "code",
        "colab": {
          "base_uri": "https://localhost:8080/",
          "height": 248
        },
        "outputId": "69755f9b-373c-4e13-ffd8-89e1dea14a53"
      },
      "source": [
        "plt.imshow(x_train[0])\n",
        "plt.axis('off')\n",
        "plt.show()"
      ],
      "execution_count": 8,
      "outputs": [
        {
          "output_type": "display_data",
          "data": {
            "image/png": "[encoded data removed]",
            "text/plain": [
              "<Figure size 432x288 with 1 Axes>"
            ]
          },
          "metadata": {
            "tags": []
          }
        }
      ]
    },
    {
      "cell_type": "code",
      "metadata": {
        "id": "r6iEvml_ddEz",
        "colab_type": "code",
        "colab": {
          "base_uri": "https://localhost:8080/",
          "height": 36
        },
        "outputId": "6e7ddda3-9f9c-4b5e-9add-394f4efe317c"
      },
      "source": [
        "print(x_train.shape[1:])"
      ],
      "execution_count": 9,
      "outputs": [
        {
          "output_type": "stream",
          "text": [
            "(32, 32, 3)\n"
          ],
          "name": "stdout"
        }
      ]
    },
    {
      "cell_type": "markdown",
      "metadata": {
        "id": "8udXKQay2RuB",
        "colab_type": "text"
      },
      "source": [
        "##ConvModel"
      ]
    },
    {
      "cell_type": "code",
      "metadata": {
        "id": "F_9RqLA_muyY",
        "colab_type": "code",
        "colab": {}
      },
      "source": [
        "#https://keras.io/examples/cifar10_cnn/"
      ],
      "execution_count": 0,
      "outputs": []
    },
    {
      "cell_type": "code",
      "metadata": {
        "id": "pQy3Cu-t-m78",
        "colab_type": "code",
        "colab": {}
      },
      "source": [
        "model = Sequential()\n",
        "model.add(Conv2D(32, (3, 3), padding='same',\n",
        "                 input_shape=x_train.shape[1:]))\n",
        "model.add(Activation('relu'))\n",
        "model.add(Conv2D(32, (3, 3)))\n",
        "model.add(Activation('relu'))\n",
        "model.add(MaxPooling2D(pool_size=(2, 2)))\n",
        "model.add(Dropout(0.25))\n",
        "\n",
        "# model.add(Conv2D(64, (3, 3), padding='same'))\n",
        "# model.add(Activation('relu'))\n",
        "# model.add(Conv2D(64, (3, 3)))\n",
        "# model.add(Activation('relu'))\n",
        "# model.add(MaxPooling2D(pool_size=(2, 2)))\n",
        "# model.add(Dropout(0.25))\n",
        "\n",
        "model.add(Flatten())\n",
        "model.add(Dense(512))\n",
        "model.add(Activation('relu'))\n",
        "model.add(Dropout(0.5))\n",
        "model.add(Dense(num_classes))\n",
        "model.add(Activation('softmax'))\n"
      ],
      "execution_count": 0,
      "outputs": []
    },
    {
      "cell_type": "code",
      "metadata": {
        "id": "8wi-BVpWkXxN",
        "colab_type": "code",
        "colab": {}
      },
      "source": [
        "# model = Sequential([\n",
        "#     Conv2D(32, 3, padding='same', activation='relu', input_shape=IMAGE_SIZE+(3,)),\n",
        "#     MaxPooling2D(),\n",
        "#     Conv2D(64, 3, padding='same', activation='relu'),\n",
        "#     MaxPooling2D(),\n",
        "#     Conv2D(128, 3, padding='same', activation='relu'),\n",
        "#     MaxPooling2D(),\n",
        "#     Flatten(),\n",
        "#     Dense(128, activation='relu'),\n",
        "#     Dense(1, activation='sigmoid')\n",
        "# ])"
      ],
      "execution_count": 0,
      "outputs": []
    },
    {
      "cell_type": "code",
      "metadata": {
        "id": "1900Sr1ABVoa",
        "colab_type": "code",
        "outputId": "621e5782-59df-4120-bc25-eeaac8c60fe8",
        "colab": {
          "base_uri": "https://localhost:8080/",
          "height": 611
        }
      },
      "source": [
        "model.compile(optimizer='adam',\n",
        "              loss='categorical_crossentropy',\n",
        "              metrics=['accuracy'])\n",
        "\n",
        "model.summary()"
      ],
      "execution_count": 11,
      "outputs": [
        {
          "output_type": "stream",
          "text": [
            "Model: \"sequential\"\n",
            "_________________________________________________________________\n",
            "Layer (type)                 Output Shape              Param #   \n",
            "=================================================================\n",
            "conv2d (Conv2D)              (None, 32, 32, 32)        896       \n",
            "_________________________________________________________________\n",
            "activation (Activation)      (None, 32, 32, 32)        0         \n",
            "_________________________________________________________________\n",
            "conv2d_1 (Conv2D)            (None, 30, 30, 32)        9248      \n",
            "_________________________________________________________________\n",
            "activation_1 (Activation)    (None, 30, 30, 32)        0         \n",
            "_________________________________________________________________\n",
            "max_pooling2d (MaxPooling2D) (None, 15, 15, 32)        0         \n",
            "_________________________________________________________________\n",
            "dropout (Dropout)            (None, 15, 15, 32)        0         \n",
            "_________________________________________________________________\n",
            "flatten (Flatten)            (None, 7200)              0         \n",
            "_________________________________________________________________\n",
            "dense (Dense)                (None, 512)               3686912   \n",
            "_________________________________________________________________\n",
            "activation_2 (Activation)    (None, 512)               0         \n",
            "_________________________________________________________________\n",
            "dropout_1 (Dropout)          (None, 512)               0         \n",
            "_________________________________________________________________\n",
            "dense_1 (Dense)              (None, 10)                5130      \n",
            "_________________________________________________________________\n",
            "activation_3 (Activation)    (None, 10)                0         \n",
            "=================================================================\n",
            "Total params: 3,702,186\n",
            "Trainable params: 3,702,186\n",
            "Non-trainable params: 0\n",
            "_________________________________________________________________\n"
          ],
          "name": "stdout"
        }
      ]
    },
    {
      "cell_type": "code",
      "metadata": {
        "id": "9HcPY3F33Q3j",
        "colab_type": "code",
        "outputId": "82a5ebdd-f47b-4f87-8ba2-3869cf001fdb",
        "colab": {
          "base_uri": "https://localhost:8080/",
          "height": 407
        }
      },
      "source": [
        " history = model.fit(x_train, y_train,\n",
        "              batch_size=batch_size,\n",
        "              epochs=epochs,\n",
        "              validation_data=(x_test, y_test),\n",
        "              shuffle=True)"
      ],
      "execution_count": 12,
      "outputs": [
        {
          "output_type": "stream",
          "text": [
            "Train on 50000 samples, validate on 10000 samples\n",
            "Epoch 1/10\n",
            "50000/50000 [==============================] - 111s 2ms/sample - loss: 2.5057 - accuracy: 0.2052 - val_loss: 1.7707 - val_accuracy: 0.3486\n",
            "Epoch 2/10\n",
            "50000/50000 [==============================] - 112s 2ms/sample - loss: 1.7011 - accuracy: 0.3795 - val_loss: 1.4606 - val_accuracy: 0.4671\n",
            "Epoch 3/10\n",
            "50000/50000 [==============================] - 112s 2ms/sample - loss: 1.4344 - accuracy: 0.4893 - val_loss: 1.2350 - val_accuracy: 0.5661\n",
            "Epoch 4/10\n",
            "50000/50000 [==============================] - 112s 2ms/sample - loss: 1.2781 - accuracy: 0.5536 - val_loss: 1.1742 - val_accuracy: 0.5978\n",
            "Epoch 5/10\n",
            "50000/50000 [==============================] - 113s 2ms/sample - loss: 1.1683 - accuracy: 0.5936 - val_loss: 1.1427 - val_accuracy: 0.6076\n",
            "Epoch 6/10\n",
            "50000/50000 [==============================] - 111s 2ms/sample - loss: 1.0836 - accuracy: 0.6286 - val_loss: 1.1657 - val_accuracy: 0.6033\n",
            "Epoch 7/10\n",
            "50000/50000 [==============================] - 113s 2ms/sample - loss: 0.9988 - accuracy: 0.6560 - val_loss: 1.1058 - val_accuracy: 0.6358\n",
            "Epoch 8/10\n",
            "50000/50000 [==============================] - 112s 2ms/sample - loss: 0.9351 - accuracy: 0.6803 - val_loss: 1.0566 - val_accuracy: 0.6498\n",
            "Epoch 9/10\n",
            "50000/50000 [==============================] - 112s 2ms/sample - loss: 0.8618 - accuracy: 0.7090 - val_loss: 1.0900 - val_accuracy: 0.6368\n",
            "Epoch 10/10\n",
            "50000/50000 [==============================] - 113s 2ms/sample - loss: 0.8119 - accuracy: 0.7263 - val_loss: 1.1017 - val_accuracy: 0.6436\n"
          ],
          "name": "stdout"
        }
      ]
    },
    {
      "cell_type": "code",
      "metadata": {
        "id": "pc-zmz_RkG6e",
        "colab_type": "code",
        "colab": {
          "base_uri": "https://localhost:8080/",
          "height": 269
        },
        "outputId": "e4d24471-860c-4918-da1d-46edf6793e08"
      },
      "source": [
        "def plot_accuracy_and_loss(history, acc_ylim=[min(plt.ylim()),1.0], loss_ylim=[0,2.0]):\n",
        "  acc = history.history['accuracy']\n",
        "  val_acc = history.history['val_accuracy']\n",
        "\n",
        "  loss = history.history['loss']\n",
        "  val_loss = history.history['val_loss']\n",
        "\n",
        "  plt.figure(figsize=(8, 8))\n",
        "  plt.subplot(2, 1, 1)\n",
        "  plt.plot(acc, label='Training Accuracy')\n",
        "  plt.plot(val_acc, label='Validation Accuracy')\n",
        "  plt.legend(loc='lower right')\n",
        "  plt.ylabel('Accuracy')\n",
        "  plt.ylim(acc_ylim)\n",
        "  plt.title('Training and Validation Accuracy')\n",
        "\n",
        "  plt.subplot(2, 1, 2)\n",
        "  plt.plot(loss, label='Training Loss')\n",
        "  plt.plot(val_loss, label='Validation Loss')\n",
        "  plt.legend(loc='upper right')\n",
        "  plt.ylabel('Cross Entropy')\n",
        "  plt.ylim(loss_ylim)\n",
        "  plt.title('Training and Validation Loss')\n",
        "  plt.xlabel('epoch')\n",
        "  plt.show()"
      ],
      "execution_count": 13,
      "outputs": [
        {
          "output_type": "display_data",
          "data": {
            "image/png": "[encoded data removed]",
            "text/plain": [
              "<Figure size 432x288 with 1 Axes>"
            ]
          },
          "metadata": {
            "tags": []
          }
        }
      ]
    },
    {
      "cell_type": "code",
      "metadata": {
        "id": "KTRiawEOkI8Q",
        "colab_type": "code",
        "colab": {
          "base_uri": "https://localhost:8080/",
          "height": 513
        },
        "outputId": "2b79077b-ba5c-4b73-b8bf-f6a216c70e2f"
      },
      "source": [
        "plot_accuracy_and_loss(history, acc_ylim=[0,1.0],loss_ylim=[0,5])"
      ],
      "execution_count": 14,
      "outputs": [
        {
          "output_type": "display_data",
          "data": {
            "image/png": "[encoded data removed]",
            "text/plain": [
              "<Figure size 576x576 with 2 Axes>"
            ]
          },
          "metadata": {
            "tags": []
          }
        }
      ]
    },
    {
      "cell_type": "code",
      "metadata": {
        "id": "d6aZLgov5oWX",
        "colab_type": "code",
        "colab": {
          "base_uri": "https://localhost:8080/",
          "height": 318
        },
        "outputId": "22e966d9-a68f-4f5a-9113-1666908c5521"
      },
      "source": [
        "img_index = np.random.randint(x_test.shape[0])\n",
        "img = x_test[img_index]\n",
        "predictions = model.predict(tf.expand_dims(img, 0))\n",
        "plt.imshow(img, cmap=plt.cm.binary)\n",
        "plt.title(class_names[int(y_test[img_index][0])])\n",
        "plt.show()\n",
        "print('\\nPredicted class is:', class_names[np.argmax(predictions[0])])"
      ],
      "execution_count": 39,
      "outputs": [
        {
          "output_type": "display_data",
          "data": {
            "image/png": "[encoded data removed]",
            "text/plain": [
              "<Figure size 432x288 with 1 Axes>"
            ]
          },
          "metadata": {
            "tags": []
          }
        },
        {
          "output_type": "stream",
          "text": [
            "\n",
            "Predicted class is: car\n"
          ],
          "name": "stdout"
        }
      ]
    }
  ]
}