{
  "nbformat": 4,
  "nbformat_minor": 0,
  "metadata": {
    "colab": {
      "name": "NewLab3.ipynb",
      "provenance": [],
      "collapsed_sections": []
    },
    "kernelspec": {
      "name": "python3",
      "display_name": "Python 3"
    }
  },
  "cells": [
    {
      "cell_type": "code",
      "metadata": {
        "id": "g_PcKwZyjd1d",
        "colab_type": "code",
        "outputId": "dd66e052-14ea-494d-91b3-384799cfe886",
        "colab": {
          "base_uri": "https://localhost:8080/",
          "height": 35
        }
      },
      "source": [
        "%tensorflow_version 2.x\n",
        "\n",
        "import tensorflow as tf\n",
        "\n",
        "\n",
        "from tensorflow.keras.datasets import imdb\n",
        "!pip install -q tensorflow-hub\n",
        "!pip install -q tfds-nightly\n",
        "import tensorflow_datasets as tfds\n",
        "import tensorflow_hub as hub\n",
        "from tensorflow.keras.models import Sequential\n",
        "from tensorflow.keras.layers import Dense, Flatten\n",
        "from tensorflow.keras.preprocessing.sequence import pad_sequences\n",
        "\n",
        "import string\n",
        "import numpy as np\n",
        "import matplotlib.pylab as plt\n",
        "\n",
        "#dark mode\n",
        "# plt.rc_context({'xtick.color':'w', 'ytick.color':'w', 'text.color':'w', 'axes.labelcolor':'w'})\n",
        "\n",
        "seed=1234\n",
        "np.random.seed(seed)\n",
        "tf.random.set_seed(seed)"
      ],
      "execution_count": 1,
      "outputs": [
        {
          "output_type": "stream",
          "text": [
            "TensorFlow 2.x selected.\n"
          ],
          "name": "stdout"
        }
      ]
    },
    {
      "cell_type": "code",
      "metadata": {
        "id": "g4l9Hrb6byOc",
        "colab_type": "code",
        "colab": {
          "base_uri": "https://localhost:8080/",
          "height": 72
        },
        "outputId": "7d9b5976-f2bc-4de5-8eb7-cd565f23aba1"
      },
      "source": [
        "print(\"Version: \", tf.__version__)\n",
        "print(\"Eager mode: \", tf.executing_eagerly())\n",
        "print(\"Hub version: \", hub.__version__)\n"
      ],
      "execution_count": 2,
      "outputs": [
        {
          "output_type": "stream",
          "text": [
            "Version:  2.1.0\n",
            "Eager mode:  True\n",
            "Hub version:  0.7.0\n"
          ],
          "name": "stdout"
        }
      ]
    },
    {
      "cell_type": "markdown",
      "metadata": {
        "id": "0AV7hg7GkOfX",
        "colab_type": "text"
      },
      "source": [
        "#DataSet"
      ]
    },
    {
      "cell_type": "code",
      "metadata": {
        "id": "fzN6LQfLj87M",
        "colab_type": "code",
        "colab": {}
      },
      "source": [
        "train_data, validation_data, test_data = tfds.load(\n",
        "    name=\"imdb_reviews\", \n",
        "    split=('train[:60%]', 'train[60%:]', 'test'),\n",
        "    as_supervised=True)\n"
      ],
      "execution_count": 0,
      "outputs": []
    },
    {
      "cell_type": "code",
      "metadata": {
        "id": "3or_iS1pf7ot",
        "colab_type": "code",
        "colab": {}
      },
      "source": [
        "#first_60_percent = tfds.Split.TRAIN.subsplit(tfds.percent[:60])\n",
        "#last_40_percent = tfds.Split.TRAIN.subsplit(tfds.percent[-40:])\n"
      ],
      "execution_count": 0,
      "outputs": []
    },
    {
      "cell_type": "code",
      "metadata": {
        "id": "8nlI7WC6gqrg",
        "colab_type": "code",
        "colab": {}
      },
      "source": [
        "#train_data, validation_data, test_data = tfds.load(\n",
        " #   name=\"imdb_reviews\", \n",
        "  #  split=[first_60_percent, last_40_percent, 'test'],\n",
        "   # as_supervised=True)"
      ],
      "execution_count": 0,
      "outputs": []
    },
    {
      "cell_type": "markdown",
      "metadata": {
        "id": "PJJRKah9kJ0e",
        "colab_type": "text"
      },
      "source": [
        "#Model"
      ]
    },
    {
      "cell_type": "code",
      "metadata": {
        "id": "yMMUeutjkMUr",
        "colab_type": "code",
        "colab": {}
      },
      "source": [
        "embedding = \"https://tfhub.dev/google/tf2-preview/gnews-swivel-20dim/1\"\n",
        "hub_layer = hub.KerasLayer(embedding, input_shape=[],\n",
        "                           dtype=tf.string, trainable=True)"
      ],
      "execution_count": 0,
      "outputs": []
    },
    {
      "cell_type": "code",
      "metadata": {
        "id": "fivNnQn4oqXj",
        "colab_type": "code",
        "colab": {}
      },
      "source": [
        "model = Sequential([\n",
        "  hub_layer,\n",
        "  tf.keras.layers.Dense(16, activation='relu'),\n",
        "  tf.keras.layers.Dense(1, activation='sigmoid')                  \n",
        "])"
      ],
      "execution_count": 0,
      "outputs": []
    },
    {
      "cell_type": "code",
      "metadata": {
        "id": "xHj77oz8kTcI",
        "colab_type": "code",
        "outputId": "53188bf6-cf30-4e35-e0c2-789b3165307a",
        "colab": {
          "base_uri": "https://localhost:8080/",
          "height": 276
        }
      },
      "source": [
        "model.summary()\n"
      ],
      "execution_count": 5,
      "outputs": [
        {
          "output_type": "stream",
          "text": [
            "Model: \"sequential\"\n",
            "_________________________________________________________________\n",
            "Layer (type)                 Output Shape              Param #   \n",
            "=================================================================\n",
            "keras_layer (KerasLayer)     (None, 20)                400020    \n",
            "_________________________________________________________________\n",
            "dense (Dense)                (None, 16)                336       \n",
            "_________________________________________________________________\n",
            "dense_1 (Dense)              (None, 1)                 17        \n",
            "=================================================================\n",
            "Total params: 400,373\n",
            "Trainable params: 400,373\n",
            "Non-trainable params: 0\n",
            "_________________________________________________________________\n"
          ],
          "name": "stdout"
        }
      ]
    },
    {
      "cell_type": "code",
      "metadata": {
        "id": "MpyoKX3Vr2HR",
        "colab_type": "code",
        "colab": {}
      },
      "source": [
        "model.compile(optimizer='adam',\n",
        "              loss='binary_crossentropy',\n",
        "              metrics=['accuracy'])\n"
      ],
      "execution_count": 0,
      "outputs": []
    },
    {
      "cell_type": "code",
      "metadata": {
        "id": "KrYiTA-trw3Z",
        "colab_type": "code",
        "outputId": "92c7b85b-8d2d-4ce1-8de7-85518ce284d9",
        "colab": {
          "base_uri": "https://localhost:8080/",
          "height": 756
        }
      },
      "source": [
        "history = model.fit(train_data.shuffle(10000).batch(512),\n",
        "                    epochs=20,\n",
        "                    validation_data=validation_data.batch(512),\n",
        "                    verbose=1)"
      ],
      "execution_count": 6,
      "outputs": [
        {
          "output_type": "stream",
          "text": [
            "Epoch 1/20\n",
            "30/30 [==============================] - 6s 199ms/step - loss: 0.7865 - accuracy: 0.5163 - val_loss: 0.6746 - val_accuracy: 0.5842\n",
            "Epoch 2/20\n",
            "30/30 [==============================] - 6s 186ms/step - loss: 0.6449 - accuracy: 0.6261 - val_loss: 0.6255 - val_accuracy: 0.6469\n",
            "Epoch 3/20\n",
            "30/30 [==============================] - 6s 193ms/step - loss: 0.6025 - accuracy: 0.6764 - val_loss: 0.5936 - val_accuracy: 0.6899\n",
            "Epoch 4/20\n",
            "30/30 [==============================] - 6s 196ms/step - loss: 0.5711 - accuracy: 0.7095 - val_loss: 0.5652 - val_accuracy: 0.7156\n",
            "Epoch 5/20\n",
            "30/30 [==============================] - 6s 193ms/step - loss: 0.5392 - accuracy: 0.7352 - val_loss: 0.5377 - val_accuracy: 0.7418\n",
            "Epoch 6/20\n",
            "30/30 [==============================] - 6s 196ms/step - loss: 0.5090 - accuracy: 0.7608 - val_loss: 0.5120 - val_accuracy: 0.7602\n",
            "Epoch 7/20\n",
            "30/30 [==============================] - 6s 207ms/step - loss: 0.4765 - accuracy: 0.7849 - val_loss: 0.4837 - val_accuracy: 0.7829\n",
            "Epoch 8/20\n",
            "30/30 [==============================] - 6s 195ms/step - loss: 0.4462 - accuracy: 0.8047 - val_loss: 0.4571 - val_accuracy: 0.7990\n",
            "Epoch 9/20\n",
            "30/30 [==============================] - 6s 197ms/step - loss: 0.4108 - accuracy: 0.8245 - val_loss: 0.4313 - val_accuracy: 0.8129\n",
            "Epoch 10/20\n",
            "30/30 [==============================] - 6s 195ms/step - loss: 0.3793 - accuracy: 0.8413 - val_loss: 0.4070 - val_accuracy: 0.8246\n",
            "Epoch 11/20\n",
            "30/30 [==============================] - 6s 191ms/step - loss: 0.3480 - accuracy: 0.8594 - val_loss: 0.3870 - val_accuracy: 0.8350\n",
            "Epoch 12/20\n",
            "30/30 [==============================] - 6s 195ms/step - loss: 0.3220 - accuracy: 0.8746 - val_loss: 0.3676 - val_accuracy: 0.8474\n",
            "Epoch 13/20\n",
            "30/30 [==============================] - 6s 197ms/step - loss: 0.2958 - accuracy: 0.8869 - val_loss: 0.3536 - val_accuracy: 0.8515\n",
            "Epoch 14/20\n",
            "30/30 [==============================] - 6s 199ms/step - loss: 0.2726 - accuracy: 0.8963 - val_loss: 0.3410 - val_accuracy: 0.8584\n",
            "Epoch 15/20\n",
            "30/30 [==============================] - 6s 194ms/step - loss: 0.2533 - accuracy: 0.9076 - val_loss: 0.3332 - val_accuracy: 0.8619\n",
            "Epoch 16/20\n",
            "30/30 [==============================] - 6s 198ms/step - loss: 0.2368 - accuracy: 0.9143 - val_loss: 0.3249 - val_accuracy: 0.8673\n",
            "Epoch 17/20\n",
            "30/30 [==============================] - 6s 192ms/step - loss: 0.2219 - accuracy: 0.9206 - val_loss: 0.3209 - val_accuracy: 0.8682\n",
            "Epoch 18/20\n",
            "30/30 [==============================] - 6s 196ms/step - loss: 0.2047 - accuracy: 0.9282 - val_loss: 0.3156 - val_accuracy: 0.8716\n",
            "Epoch 19/20\n",
            "30/30 [==============================] - 6s 191ms/step - loss: 0.1914 - accuracy: 0.9343 - val_loss: 0.3129 - val_accuracy: 0.8724\n",
            "Epoch 20/20\n",
            "30/30 [==============================] - 6s 194ms/step - loss: 0.1806 - accuracy: 0.9399 - val_loss: 0.3126 - val_accuracy: 0.8726\n"
          ],
          "name": "stdout"
        }
      ]
    },
    {
      "cell_type": "code",
      "metadata": {
        "id": "Y71Jd8f4toJ3",
        "colab_type": "code",
        "colab": {
          "base_uri": "https://localhost:8080/",
          "height": 621
        },
        "outputId": "7bb492d8-04ff-49e8-b9f3-53f504f768c3"
      },
      "source": [
        "acc = history.history['accuracy']\n",
        "val_acc = history.history['val_accuracy']\n",
        "\n",
        "loss = history.history['loss']\n",
        "val_loss = history.history['val_loss']\n",
        "\n",
        "plt.figure(figsize=(10, 10))\n",
        "plt.subplot(2, 1, 1)\n",
        "plt.plot(acc, label='Training Accuracy')\n",
        "plt.plot(val_acc, label='Validation Accuracy')\n",
        "plt.legend(loc='lower right')\n",
        "plt.setp(plt.legend().get_texts(), color='black')\n",
        "plt.ylabel('Accuracy')\n",
        "plt.ylim([min(plt.ylim()),1.0])\n",
        "plt.title('Training and Validation Accuracy')\n",
        "\n",
        "plt.subplot(2, 1, 2)\n",
        "plt.plot(loss, label='Training Loss')\n",
        "plt.plot(val_loss, label='Validation Loss')\n",
        "plt.legend(loc='upper right')\n",
        "plt.setp(plt.legend().get_texts(), color='black')\n",
        "plt.ylabel('Cross Entropy')\n",
        "plt.ylim([0.0,3.5])\n",
        "plt.title('Training and Validation Loss')\n",
        "plt.xlabel('epoch')\n",
        "plt.show()"
      ],
      "execution_count": 7,
      "outputs": [
        {
          "output_type": "display_data",
          "data": {
            "image/png": "[encoded data removed]",
            "text/plain": [
              "<Figure size 720x720 with 2 Axes>"
            ]
          },
          "metadata": {
            "tags": []
          }
        }
      ]
    },
    {
      "cell_type": "code",
      "metadata": {
        "id": "EcuiMQzDttoa",
        "colab_type": "code",
        "colab": {}
      },
      "source": [
        ""
      ],
      "execution_count": 0,
      "outputs": []
    },
    {
      "cell_type": "code",
      "metadata": {
        "id": "ujKdRadatzmL",
        "colab_type": "code",
        "colab": {}
      },
      "source": [
        ""
      ],
      "execution_count": 0,
      "outputs": []
    }
  ]
}